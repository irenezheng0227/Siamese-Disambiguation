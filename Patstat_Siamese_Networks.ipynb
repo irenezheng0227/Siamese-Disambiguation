{
 "cells": [
  {
   "cell_type": "code",
   "execution_count": 1,
   "id": "662acc68-a283-45d2-98fa-39f63af6d279",
   "metadata": {},
   "outputs": [],
   "source": [
    "import pandas as pd\n",
    "import datetime\n",
    "import numpy as np\n",
    "import random\n",
    "import matplotlib.pyplot as plt\n",
    "from itertools import combinations, product\n",
    "from sklearn.preprocessing import StandardScaler\n",
    "from sklearn.manifold import TSNE\n",
    "from sklearn.metrics import silhouette_score\n",
    "from sklearn.model_selection import train_test_split"
   ]
  },
  {
   "cell_type": "code",
   "execution_count": 2,
   "id": "c2385a2e-6183-43bd-914b-d35e5d611e61",
   "metadata": {},
   "outputs": [],
   "source": [
    "import torch\n",
    "import torch.nn as nn\n",
    "import torch.optim as optim\n",
    "from tqdm import tqdm\n",
    "from torch.utils.data import DataLoader, Dataset\n",
    "from torch.optim.lr_scheduler import ReduceLROnPlateau"
   ]
  },
  {
   "cell_type": "code",
   "execution_count": 3,
   "id": "e8226924-bb34-4739-9b9c-1d3854b4cba9",
   "metadata": {},
   "outputs": [],
   "source": [
    "from untils.data_utils import generate_triplet_dataset, create_inventor_dictionary, generate_positive_dataset, generate_negative_dataset\n",
    "from untils.base_models import MLP\n",
    "from untils.dataset import Triplet_Dataset, Test_Dataset, Test_Dataset_Plus\n",
    "from untils.train_utils import train_fn, eval_fn\n",
    "from untils.test_utils import visualize_embeddings"
   ]
  },
  {
   "cell_type": "markdown",
   "id": "a8acee05-3d9c-428c-9afe-8820930b18a6",
   "metadata": {},
   "source": [
    "## 1. Data Preprocessing\n",
    "### 1.1 Load the Dataset (Disambiguated US Patents)"
   ]
  },
  {
   "cell_type": "code",
   "execution_count": 4,
   "id": "3fbdf55a-a3ed-464d-8ac3-f6706e366b72",
   "metadata": {},
   "outputs": [],
   "source": [
    "file_path = 'US_Patstat.tsv'\n",
    "us_patstat_ = pd.read_csv(file_path, sep='\\t')"
   ]
  },
  {
   "cell_type": "code",
   "execution_count": 5,
   "id": "7c1fecba-90c8-4a11-8187-4b86f2cbb9b6",
   "metadata": {},
   "outputs": [
    {
     "name": "stdout",
     "output_type": "stream",
     "text": [
      "<class 'pandas.core.frame.DataFrame'>\n",
      "RangeIndex: 160245 entries, 0 to 160244\n",
      "Data columns (total 24 columns):\n",
      " #   Column              Non-Null Count   Dtype \n",
      "---  ------              --------------   ----- \n",
      " 0   appln_id            160245 non-null  int64 \n",
      " 1   appln_nr_epodoc     160245 non-null  object\n",
      " 2   nb_inventors        160245 non-null  int64 \n",
      " 3   granted             160245 non-null  bool  \n",
      " 4   appln_filing_date   160245 non-null  object\n",
      " 5   docdb_family_id     160245 non-null  int64 \n",
      " 6   appln_title         160245 non-null  object\n",
      " 7   appln_title_lg      160245 non-null  object\n",
      " 8   appln_abstract      160245 non-null  object\n",
      " 9   appln_abstract_lg   160245 non-null  object\n",
      " 10  f0_                 160245 non-null  int64 \n",
      " 11  f1_                 160240 non-null  object\n",
      " 12  f2_                 143951 non-null  object\n",
      " 13  f3_                 160245 non-null  object\n",
      " 14  f4_                 108302 non-null  object\n",
      " 15  f5_                 160245 non-null  object\n",
      " 16  f6_                 160245 non-null  object\n",
      " 17  person_id           160245 non-null  int64 \n",
      " 18  name_freeform       14932 non-null   object\n",
      " 19  address_freeform    835 non-null     object\n",
      " 20  person_ctry_code    160245 non-null  object\n",
      " 21  f7_                 160245 non-null  object\n",
      " 22  abstract_embedding  160245 non-null  object\n",
      " 23  title_embedding     160245 non-null  object\n",
      "dtypes: bool(1), int64(5), object(18)\n",
      "memory usage: 28.3+ MB\n"
     ]
    }
   ],
   "source": [
    "us_patstat_.info()"
   ]
  },
  {
   "cell_type": "code",
   "execution_count": 6,
   "id": "bb55e1dd-82db-430e-b57d-cb4bf88669f0",
   "metadata": {},
   "outputs": [
    {
     "data": {
      "text/html": [
       "<div>\n",
       "<style scoped>\n",
       "    .dataframe tbody tr th:only-of-type {\n",
       "        vertical-align: middle;\n",
       "    }\n",
       "\n",
       "    .dataframe tbody tr th {\n",
       "        vertical-align: top;\n",
       "    }\n",
       "\n",
       "    .dataframe thead th {\n",
       "        text-align: right;\n",
       "    }\n",
       "</style>\n",
       "<table border=\"1\" class=\"dataframe\">\n",
       "  <thead>\n",
       "    <tr style=\"text-align: right;\">\n",
       "      <th></th>\n",
       "      <th>appln_id</th>\n",
       "      <th>appln_nr_epodoc</th>\n",
       "      <th>nb_inventors</th>\n",
       "      <th>granted</th>\n",
       "      <th>appln_filing_date</th>\n",
       "      <th>docdb_family_id</th>\n",
       "      <th>appln_title</th>\n",
       "      <th>appln_title_lg</th>\n",
       "      <th>appln_abstract</th>\n",
       "      <th>appln_abstract_lg</th>\n",
       "      <th>...</th>\n",
       "      <th>f4_</th>\n",
       "      <th>f5_</th>\n",
       "      <th>f6_</th>\n",
       "      <th>person_id</th>\n",
       "      <th>name_freeform</th>\n",
       "      <th>address_freeform</th>\n",
       "      <th>person_ctry_code</th>\n",
       "      <th>f7_</th>\n",
       "      <th>abstract_embedding</th>\n",
       "      <th>title_embedding</th>\n",
       "    </tr>\n",
       "  </thead>\n",
       "  <tbody>\n",
       "    <tr>\n",
       "      <th>0</th>\n",
       "      <td>50187409</td>\n",
       "      <td>USD3661679</td>\n",
       "      <td>1</td>\n",
       "      <td>True</td>\n",
       "      <td>1970-09-08</td>\n",
       "      <td>22095217</td>\n",
       "      <td>ADHESIVE APPLICATOR FOR PLYWOOD PATCHING MACHINE</td>\n",
       "      <td>en</td>\n",
       "      <td>A conventional plywood patching machine is mod...</td>\n",
       "      <td>en</td>\n",
       "      <td>...</td>\n",
       "      <td>NaN</td>\n",
       "      <td>A</td>\n",
       "      <td>B27G   1/00&amp;B27G  11/00</td>\n",
       "      <td>38741655</td>\n",
       "      <td>RAYMOND THOMAS LAW</td>\n",
       "      <td>NaN</td>\n",
       "      <td></td>\n",
       "      <td>Y10T 156/1304&amp;Y10T 156/1352&amp;Y10T 156/1724&amp;Y10T...</td>\n",
       "      <td>[-5.27917683e-01  7.01451823e-02  4.96898770e-...</td>\n",
       "      <td>[-7.15034425e-01  3.56434196e-01 -3.63022447e-...</td>\n",
       "    </tr>\n",
       "    <tr>\n",
       "      <th>1</th>\n",
       "      <td>57592923</td>\n",
       "      <td>US20080329133</td>\n",
       "      <td>3</td>\n",
       "      <td>True</td>\n",
       "      <td>2008-12-05</td>\n",
       "      <td>39667798</td>\n",
       "      <td>Memory circuit with decoupled read and write b...</td>\n",
       "      <td>en</td>\n",
       "      <td>In a memory circuit, data from all cells along...</td>\n",
       "      <td>en</td>\n",
       "      <td>...</td>\n",
       "      <td>INDIVIDUAL</td>\n",
       "      <td>A</td>\n",
       "      <td>G11C   7/00</td>\n",
       "      <td>8303429</td>\n",
       "      <td>NaN</td>\n",
       "      <td>NaN</td>\n",
       "      <td>US</td>\n",
       "      <td>G11C  11/413&amp;G11C   7/1045&amp;G11C   7/22&amp;G11C  1...</td>\n",
       "      <td>[-4.47309852e-01 -6.21297657e-01 -1.67965934e-...</td>\n",
       "      <td>[-1.18898368e+00 -3.33331138e-01 -2.78123587e-...</td>\n",
       "    </tr>\n",
       "    <tr>\n",
       "      <th>2</th>\n",
       "      <td>442230107</td>\n",
       "      <td>US201514662311</td>\n",
       "      <td>1</td>\n",
       "      <td>True</td>\n",
       "      <td>2015-03-19</td>\n",
       "      <td>38509096</td>\n",
       "      <td>System and method for enabling the fast extrac...</td>\n",
       "      <td>en</td>\n",
       "      <td>An improved system and method for deinterleavi...</td>\n",
       "      <td>en</td>\n",
       "      <td>...</td>\n",
       "      <td>INDIVIDUAL</td>\n",
       "      <td>A</td>\n",
       "      <td>G06F  13/28&amp;H04N   5/232&amp;H04N   5/225&amp;G06K  15/00</td>\n",
       "      <td>6970729</td>\n",
       "      <td>NaN</td>\n",
       "      <td>NaN</td>\n",
       "      <td>FI</td>\n",
       "      <td>G06F  13/28&amp;H04N   5/23293&amp;H04N   5/2257</td>\n",
       "      <td>[-8.22747707e-01 -4.14333493e-01  5.23542762e-...</td>\n",
       "      <td>[-6.56469285e-01 -1.97614193e-01 -3.31190050e-...</td>\n",
       "    </tr>\n",
       "    <tr>\n",
       "      <th>3</th>\n",
       "      <td>50514439</td>\n",
       "      <td>US20030390567</td>\n",
       "      <td>3</td>\n",
       "      <td>False</td>\n",
       "      <td>2003-03-17</td>\n",
       "      <td>26719650</td>\n",
       "      <td>Novel human 7TM proteins and polynucleotides e...</td>\n",
       "      <td>en</td>\n",
       "      <td>The nucleotide and amino acid sequences of two...</td>\n",
       "      <td>en</td>\n",
       "      <td>...</td>\n",
       "      <td>NaN</td>\n",
       "      <td>A</td>\n",
       "      <td>C07K  14/705&amp;C07H  21/04</td>\n",
       "      <td>33372782</td>\n",
       "      <td>ZAMBROWICZ BRIAN</td>\n",
       "      <td>NaN</td>\n",
       "      <td>US</td>\n",
       "      <td>C07H  21/04&amp;C07K  14/705</td>\n",
       "      <td>[-2.79702425e-01 -2.80872881e-01  1.50826380e-...</td>\n",
       "      <td>[-7.34566450e-01 -3.11857700e-01 -3.87240708e-...</td>\n",
       "    </tr>\n",
       "    <tr>\n",
       "      <th>4</th>\n",
       "      <td>54155908</td>\n",
       "      <td>US20040921349</td>\n",
       "      <td>2</td>\n",
       "      <td>True</td>\n",
       "      <td>2004-08-19</td>\n",
       "      <td>34425839</td>\n",
       "      <td>Programmable asynchronous pipeline arrays</td>\n",
       "      <td>en</td>\n",
       "      <td>High-performance, highly pipelined asynchronou...</td>\n",
       "      <td>en</td>\n",
       "      <td>...</td>\n",
       "      <td>NaN</td>\n",
       "      <td>A</td>\n",
       "      <td>H03K  19/177&amp;H03K  19/173</td>\n",
       "      <td>10503639</td>\n",
       "      <td>NaN</td>\n",
       "      <td>NaN</td>\n",
       "      <td>US</td>\n",
       "      <td>H03K  19/17736</td>\n",
       "      <td>[-6.02215886e-01 -5.15534878e-01  1.48602933e-...</td>\n",
       "      <td>[-1.08743978e+00 -2.57100761e-01 -3.06084752e-...</td>\n",
       "    </tr>\n",
       "  </tbody>\n",
       "</table>\n",
       "<p>5 rows × 24 columns</p>\n",
       "</div>"
      ],
      "text/plain": [
       "    appln_id appln_nr_epodoc  nb_inventors  granted appln_filing_date  \\\n",
       "0   50187409      USD3661679             1     True        1970-09-08   \n",
       "1   57592923   US20080329133             3     True        2008-12-05   \n",
       "2  442230107  US201514662311             1     True        2015-03-19   \n",
       "3   50514439   US20030390567             3    False        2003-03-17   \n",
       "4   54155908   US20040921349             2     True        2004-08-19   \n",
       "\n",
       "   docdb_family_id                                        appln_title  \\\n",
       "0         22095217   ADHESIVE APPLICATOR FOR PLYWOOD PATCHING MACHINE   \n",
       "1         39667798  Memory circuit with decoupled read and write b...   \n",
       "2         38509096  System and method for enabling the fast extrac...   \n",
       "3         26719650  Novel human 7TM proteins and polynucleotides e...   \n",
       "4         34425839          Programmable asynchronous pipeline arrays   \n",
       "\n",
       "  appln_title_lg                                     appln_abstract  \\\n",
       "0             en  A conventional plywood patching machine is mod...   \n",
       "1             en  In a memory circuit, data from all cells along...   \n",
       "2             en  An improved system and method for deinterleavi...   \n",
       "3             en  The nucleotide and amino acid sequences of two...   \n",
       "4             en  High-performance, highly pipelined asynchronou...   \n",
       "\n",
       "  appln_abstract_lg  ...         f4_ f5_  \\\n",
       "0                en  ...         NaN   A   \n",
       "1                en  ...  INDIVIDUAL   A   \n",
       "2                en  ...  INDIVIDUAL   A   \n",
       "3                en  ...         NaN   A   \n",
       "4                en  ...         NaN   A   \n",
       "\n",
       "                                                 f6_ person_id  \\\n",
       "0                            B27G   1/00&B27G  11/00  38741655   \n",
       "1                                        G11C   7/00   8303429   \n",
       "2  G06F  13/28&H04N   5/232&H04N   5/225&G06K  15/00   6970729   \n",
       "3                           C07K  14/705&C07H  21/04  33372782   \n",
       "4                          H03K  19/177&H03K  19/173  10503639   \n",
       "\n",
       "        name_freeform address_freeform person_ctry_code  \\\n",
       "0  RAYMOND THOMAS LAW              NaN                    \n",
       "1                 NaN              NaN               US   \n",
       "2                 NaN              NaN               FI   \n",
       "3    ZAMBROWICZ BRIAN              NaN               US   \n",
       "4                 NaN              NaN               US   \n",
       "\n",
       "                                                 f7_  \\\n",
       "0  Y10T 156/1304&Y10T 156/1352&Y10T 156/1724&Y10T...   \n",
       "1  G11C  11/413&G11C   7/1045&G11C   7/22&G11C  1...   \n",
       "2           G06F  13/28&H04N   5/23293&H04N   5/2257   \n",
       "3                           C07H  21/04&C07K  14/705   \n",
       "4                                     H03K  19/17736   \n",
       "\n",
       "                                  abstract_embedding  \\\n",
       "0  [-5.27917683e-01  7.01451823e-02  4.96898770e-...   \n",
       "1  [-4.47309852e-01 -6.21297657e-01 -1.67965934e-...   \n",
       "2  [-8.22747707e-01 -4.14333493e-01  5.23542762e-...   \n",
       "3  [-2.79702425e-01 -2.80872881e-01  1.50826380e-...   \n",
       "4  [-6.02215886e-01 -5.15534878e-01  1.48602933e-...   \n",
       "\n",
       "                                     title_embedding  \n",
       "0  [-7.15034425e-01  3.56434196e-01 -3.63022447e-...  \n",
       "1  [-1.18898368e+00 -3.33331138e-01 -2.78123587e-...  \n",
       "2  [-6.56469285e-01 -1.97614193e-01 -3.31190050e-...  \n",
       "3  [-7.34566450e-01 -3.11857700e-01 -3.87240708e-...  \n",
       "4  [-1.08743978e+00 -2.57100761e-01 -3.06084752e-...  \n",
       "\n",
       "[5 rows x 24 columns]"
      ]
     },
     "execution_count": 6,
     "metadata": {},
     "output_type": "execute_result"
    }
   ],
   "source": [
    "# You can access only a small sample first\n",
    "us_patstat = us_patstat_#.head(50000)\n",
    "us_patstat.head(5)"
   ]
  },
  {
   "cell_type": "markdown",
   "id": "049bbdba-b3d0-4986-b8dd-3a4bd10ee363",
   "metadata": {},
   "source": [
    "### 1.2 Data Formatting\n",
    "- Remove square brackets in title and abstract BERT embeddings\n",
    "- Replace every occurrence of '9999-12-31' with '1999-12-31' in 'appln_filing_date' and convert to datetime\n",
    "- Generate longitude and latitude by its country code"
   ]
  },
  {
   "cell_type": "code",
   "execution_count": 7,
   "id": "6cd57970-7f75-45cd-bc6b-333f172b1c99",
   "metadata": {},
   "outputs": [],
   "source": [
    "# 1. Remove square brackets and convert to list of floats\n",
    "def process_string(x):\n",
    "    # Remove all square brackets\n",
    "    x = x.replace('[', ' ').replace(']', ' ')\n",
    "    # Convert the modified string representation to a list of floats\n",
    "    my_list = [float(elem) for elem in x.split()]\n",
    "    return my_list"
   ]
  },
  {
   "cell_type": "code",
   "execution_count": 8,
   "id": "69d8cd22-8fe0-48ca-938e-1c0079ba1b70",
   "metadata": {},
   "outputs": [],
   "source": [
    "us_patstat['title_embedding'] = us_patstat['title_embedding'].apply(lambda x: process_string(x))\n",
    "us_patstat['abstract_embedding'] = us_patstat['abstract_embedding'].apply(lambda x: process_string(x))"
   ]
  },
  {
   "cell_type": "code",
   "execution_count": 9,
   "id": "8e479b7e-cc35-482d-a2f4-1fbbd301f0a4",
   "metadata": {},
   "outputs": [],
   "source": [
    "# 2. Replace every occurrence of '9999-12-31' with '1999-12-31' and convert to datetime\n",
    "us_patstat['appln_filing_date'] = us_patstat['appln_filing_date'].replace('9999-12-31', '1999-12-31')\n",
    "us_patstat['appln_filing_date'] = pd.to_datetime(us_patstat['appln_filing_date'])\n",
    "us_patstat['filing_year'] = us_patstat['appln_filing_date'].dt.year # Extract year from 'appln_filing_date'"
   ]
  },
  {
   "cell_type": "code",
   "execution_count": 10,
   "id": "0673e422-96ea-4f31-92ba-c7a3e222a01d",
   "metadata": {},
   "outputs": [
    {
     "data": {
      "text/html": [
       "<div>\n",
       "<style scoped>\n",
       "    .dataframe tbody tr th:only-of-type {\n",
       "        vertical-align: middle;\n",
       "    }\n",
       "\n",
       "    .dataframe tbody tr th {\n",
       "        vertical-align: top;\n",
       "    }\n",
       "\n",
       "    .dataframe thead th {\n",
       "        text-align: right;\n",
       "    }\n",
       "</style>\n",
       "<table border=\"1\" class=\"dataframe\">\n",
       "  <thead>\n",
       "    <tr style=\"text-align: right;\">\n",
       "      <th></th>\n",
       "      <th>Country</th>\n",
       "      <th>ISO-ALPHA-3</th>\n",
       "      <th>ISO-ALPHA-2</th>\n",
       "      <th>IOC</th>\n",
       "      <th>FIFA</th>\n",
       "      <th>Latitude</th>\n",
       "      <th>Longitude</th>\n",
       "      <th>ISO-Name</th>\n",
       "      <th>Historical</th>\n",
       "      <th>WikiData_ID</th>\n",
       "      <th>WikiData_Latitude</th>\n",
       "      <th>WikiData_Longitude</th>\n",
       "      <th>WikiData_Label</th>\n",
       "      <th>WikiData_Description</th>\n",
       "    </tr>\n",
       "  </thead>\n",
       "  <tbody>\n",
       "    <tr>\n",
       "      <th>286</th>\n",
       "      <td>United States of America</td>\n",
       "      <td>USA</td>\n",
       "      <td>US</td>\n",
       "      <td>USA</td>\n",
       "      <td>USA</td>\n",
       "      <td>37.09024</td>\n",
       "      <td>-95.712891</td>\n",
       "      <td>1</td>\n",
       "      <td>0</td>\n",
       "      <td>Q30</td>\n",
       "      <td>39.83</td>\n",
       "      <td>-98.58</td>\n",
       "      <td>United States of America</td>\n",
       "      <td>sovereign state in North America</td>\n",
       "    </tr>\n",
       "  </tbody>\n",
       "</table>\n",
       "</div>"
      ],
      "text/plain": [
       "                      Country ISO-ALPHA-3 ISO-ALPHA-2  IOC FIFA  Latitude  \\\n",
       "286  United States of America         USA          US  USA  USA  37.09024   \n",
       "\n",
       "     Longitude  ISO-Name  Historical WikiData_ID  WikiData_Latitude  \\\n",
       "286 -95.712891         1           0         Q30              39.83   \n",
       "\n",
       "     WikiData_Longitude            WikiData_Label  \\\n",
       "286              -98.58  United States of America   \n",
       "\n",
       "                 WikiData_Description  \n",
       "286  sovereign state in North America  "
      ]
     },
     "execution_count": 10,
     "metadata": {},
     "output_type": "execute_result"
    }
   ],
   "source": [
    "# 3. Generate longitude and latitude by its country code\n",
    "# Load the longitude-latitude data\n",
    "path = 'longitude-latitude.csv'\n",
    "df_location = pd.read_csv(path)\n",
    "df_location.drop_duplicates(subset=['ISO-ALPHA-2'], inplace=True)\n",
    "\n",
    "# Make sure no duplicate country codes in the dataframe\n",
    "df_location[df_location['ISO-ALPHA-2'] == 'US']"
   ]
  },
  {
   "cell_type": "code",
   "execution_count": 11,
   "id": "32d6eb0b-ab58-4449-9505-826bdbf32176",
   "metadata": {},
   "outputs": [],
   "source": [
    "# Merge df_patstat with df_location based on country code\n",
    "us_patstat = pd.merge(us_patstat, df_location[['ISO-ALPHA-2', 'Latitude', 'Longitude']], left_on='person_ctry_code', right_on='ISO-ALPHA-2', how='left')\n",
    "\n",
    "# Drop the iso_alpha_2 column (optional)\n",
    "us_patstat.drop(columns=['ISO-ALPHA-2'], inplace=True)"
   ]
  },
  {
   "cell_type": "code",
   "execution_count": 12,
   "id": "9c4a807e-664f-4d4e-851e-11a269ddd21e",
   "metadata": {},
   "outputs": [],
   "source": [
    "# Replace null values with 0 in 'Latitude' and 'Longitude' columns\n",
    "us_patstat['Latitude'].fillna(0, inplace=True)\n",
    "us_patstat['Longitude'].fillna(0, inplace=True)"
   ]
  },
  {
   "cell_type": "markdown",
   "id": "0072eb32-2832-4346-ad27-173befb145cb",
   "metadata": {},
   "source": [
    "### 1.3 Feature engineering\n",
    "Features include abstract and title embeddings generated by BERT, latitude, longitude, number of inventors, whether it is granted, and the filing year."
   ]
  },
  {
   "cell_type": "code",
   "execution_count": 13,
   "id": "41d41068-4581-4da8-88dd-b6579ba4882e",
   "metadata": {},
   "outputs": [],
   "source": [
    "def generate_encoded_features(df):\n",
    "    # Extract text embeddings\n",
    "    abstract_embeddings = np.stack(df['abstract_embedding'].values)\n",
    "    title_embeddings = np.stack(df['title_embedding'].values)\n",
    "\n",
    "    latitude_ = df['Latitude'].values.reshape(-1, 1)\n",
    "    longitude_ = df['Longitude'].values.reshape(-1, 1)\n",
    "    filing_year_ = df['filing_year'].values.reshape(-1, 1)\n",
    "    nb_inventors_ = df['nb_inventors'].values.reshape(-1, 1)\n",
    "    granted_ = df['granted'].astype(int).values.reshape(-1, 1)\n",
    "\n",
    "    # Concatenate numerical features with text embeddings\n",
    "    encoded_features = np.hstack((title_embeddings, abstract_embeddings, filing_year_, latitude_, longitude_, granted_))\n",
    "    \n",
    "    # Normalize the data\n",
    "    scaler = StandardScaler()\n",
    "    encoded_features = scaler.fit_transform(encoded_features)\n",
    "\n",
    "    return encoded_features"
   ]
  },
  {
   "cell_type": "code",
   "execution_count": 14,
   "id": "42a2dc8e-b5b7-409f-b8c6-e0c57ffa6264",
   "metadata": {},
   "outputs": [],
   "source": [
    "# Generate encoded features\n",
    "encoded_features = generate_encoded_features(us_patstat)\n",
    "\n",
    "# Add encoded features to DataFrame\n",
    "us_patstat['encoded_feature'] = encoded_features.tolist()"
   ]
  },
  {
   "cell_type": "markdown",
   "id": "9c0ecd68-8f69-45fe-a789-97d3c5dced83",
   "metadata": {},
   "source": [
    "## 1.4. Dataset Preparation\n",
    "- Testset: Patents whose person_id group has exact 48 data points\n",
    "- Triplet Dataset: Anchor, Positive, Negative - for the model training under the triplet loss"
   ]
  },
  {
   "cell_type": "code",
   "execution_count": 15,
   "id": "b9a1ab8e-8793-4825-8ae2-2ee537b0f780",
   "metadata": {},
   "outputs": [
    {
     "name": "stdout",
     "output_type": "stream",
     "text": [
      "Size of test_patents: 432\n",
      "Size of train_patstat: 159813\n"
     ]
    }
   ],
   "source": [
    "# Group the DataFrame by 'person_id' and count the size of each group\n",
    "group_sizes = us_patstat.groupby('person_id').size()\n",
    "\n",
    "# Filter 'group_sizes' DataFrame to find group sizes between 50 and 61\n",
    "person_ids_test = group_sizes[group_sizes.isin([48])].index.tolist()\n",
    "\n",
    "# Filter us_patstat for test_patents and train_patstat\n",
    "test_patents = us_patstat[us_patstat['person_id'].isin(person_ids_test)]\n",
    "train_patstat = us_patstat[~us_patstat['person_id'].isin(person_ids_test)]\n",
    "\n",
    "# Print the sizes of test_patents and train_patstat\n",
    "print(\"Size of test_patents:\", len(test_patents))\n",
    "print(\"Size of train_patstat:\", len(train_patstat))"
   ]
  },
  {
   "cell_type": "code",
   "execution_count": 16,
   "id": "67d65dd0-d603-4e81-9802-ae6cc0e2447a",
   "metadata": {},
   "outputs": [
    {
     "data": {
      "text/plain": [
       "Label\n",
       "0    165888\n",
       "1     10152\n",
       "Name: count, dtype: int64"
      ]
     },
     "execution_count": 16,
     "metadata": {},
     "output_type": "execute_result"
    }
   ],
   "source": [
    "# Generate positive pairs and negative pairs in testset\n",
    "test_dict = create_inventor_dictionary(test_patents)\n",
    "test_positive_df = generate_positive_dataset(test_dict)\n",
    "test_negative_df = generate_negative_dataset(test_dict)\n",
    "combined_data = pd.concat([test_positive_df, test_negative_df], ignore_index=True)\n",
    "\n",
    "# Shuffle the combined_data DataFrame\n",
    "combined_data = combined_data.sample(frac=1).reset_index(drop=True)\n",
    "\n",
    "# Check the distribution of labels\n",
    "label_distribution = combined_data['Label'].value_counts()\n",
    "label_distribution"
   ]
  },
  {
   "cell_type": "code",
   "execution_count": 17,
   "id": "e1db5632-f302-4176-bc5e-791035a55106",
   "metadata": {},
   "outputs": [
    {
     "data": {
      "text/html": [
       "<div>\n",
       "<style scoped>\n",
       "    .dataframe tbody tr th:only-of-type {\n",
       "        vertical-align: middle;\n",
       "    }\n",
       "\n",
       "    .dataframe tbody tr th {\n",
       "        vertical-align: top;\n",
       "    }\n",
       "\n",
       "    .dataframe thead th {\n",
       "        text-align: right;\n",
       "    }\n",
       "</style>\n",
       "<table border=\"1\" class=\"dataframe\">\n",
       "  <thead>\n",
       "    <tr style=\"text-align: right;\">\n",
       "      <th></th>\n",
       "      <th>Anchor</th>\n",
       "      <th>Positive</th>\n",
       "      <th>Negative</th>\n",
       "    </tr>\n",
       "  </thead>\n",
       "  <tbody>\n",
       "    <tr>\n",
       "      <th>0</th>\n",
       "      <td>{54307827: [0.7164788360596089, 1.031949470966...</td>\n",
       "      <td>{48350553: [-0.3283670386928386, 2.11997024799...</td>\n",
       "      <td>{476233682: [-0.4474583514297819, -0.590411658...</td>\n",
       "    </tr>\n",
       "    <tr>\n",
       "      <th>1</th>\n",
       "      <td>{54307827: [0.7164788360596089, 1.031949470966...</td>\n",
       "      <td>{54090935: [-1.0271425376375964, -1.0547549575...</td>\n",
       "      <td>{51748118: [-2.270052808794201, 0.040481371377...</td>\n",
       "    </tr>\n",
       "    <tr>\n",
       "      <th>2</th>\n",
       "      <td>{54307827: [0.7164788360596089, 1.031949470966...</td>\n",
       "      <td>{49389085: [-0.12603252963875017, -1.265594519...</td>\n",
       "      <td>{48399086: [-0.01956505096250128, 2.8290856126...</td>\n",
       "    </tr>\n",
       "    <tr>\n",
       "      <th>3</th>\n",
       "      <td>{54307827: [0.7164788360596089, 1.031949470966...</td>\n",
       "      <td>{46832944: [-1.0429930728750916, -1.7555382949...</td>\n",
       "      <td>{516082058: [0.9156871868174954, 0.08492543787...</td>\n",
       "    </tr>\n",
       "    <tr>\n",
       "      <th>4</th>\n",
       "      <td>{48350553: [-0.3283670386928386, 2.11997024799...</td>\n",
       "      <td>{54090935: [-1.0271425376375964, -1.0547549575...</td>\n",
       "      <td>{51736915: [-0.5859461357483462, -0.1571187215...</td>\n",
       "    </tr>\n",
       "  </tbody>\n",
       "</table>\n",
       "</div>"
      ],
      "text/plain": [
       "                                              Anchor  \\\n",
       "0  {54307827: [0.7164788360596089, 1.031949470966...   \n",
       "1  {54307827: [0.7164788360596089, 1.031949470966...   \n",
       "2  {54307827: [0.7164788360596089, 1.031949470966...   \n",
       "3  {54307827: [0.7164788360596089, 1.031949470966...   \n",
       "4  {48350553: [-0.3283670386928386, 2.11997024799...   \n",
       "\n",
       "                                            Positive  \\\n",
       "0  {48350553: [-0.3283670386928386, 2.11997024799...   \n",
       "1  {54090935: [-1.0271425376375964, -1.0547549575...   \n",
       "2  {49389085: [-0.12603252963875017, -1.265594519...   \n",
       "3  {46832944: [-1.0429930728750916, -1.7555382949...   \n",
       "4  {54090935: [-1.0271425376375964, -1.0547549575...   \n",
       "\n",
       "                                            Negative  \n",
       "0  {476233682: [-0.4474583514297819, -0.590411658...  \n",
       "1  {51748118: [-2.270052808794201, 0.040481371377...  \n",
       "2  {48399086: [-0.01956505096250128, 2.8290856126...  \n",
       "3  {516082058: [0.9156871868174954, 0.08492543787...  \n",
       "4  {51736915: [-0.5859461357483462, -0.1571187215...  "
      ]
     },
     "execution_count": 17,
     "metadata": {},
     "output_type": "execute_result"
    }
   ],
   "source": [
    "# Generate triplet dataset\n",
    "inventor_dict = create_inventor_dictionary(train_patstat)\n",
    "triplet_dataset = generate_triplet_dataset(inventor_dict)\n",
    "triplet_dataset.head(5)"
   ]
  },
  {
   "cell_type": "markdown",
   "id": "03d7a074-8ee9-407e-8e75-c7da3c5336c9",
   "metadata": {},
   "source": [
    "## 2. Siamese Networks with Triplet Loss\n",
    "### 2.1 Model Training"
   ]
  },
  {
   "cell_type": "code",
   "execution_count": 18,
   "id": "341e7647-8842-4fa0-b8b8-6593b1c0d585",
   "metadata": {},
   "outputs": [],
   "source": [
    "train_patents, valid_patents = train_test_split(triplet_dataset, test_size=0.1, random_state=88)"
   ]
  },
  {
   "cell_type": "code",
   "execution_count": 19,
   "id": "7026cd7d-1836-4274-850e-f051e637935f",
   "metadata": {},
   "outputs": [
    {
     "name": "stdout",
     "output_type": "stream",
     "text": [
      "Size of trainset: 732144\n",
      "Size of validset: 81350\n"
     ]
    }
   ],
   "source": [
    "trainset = Triplet_Dataset(train_patents)\n",
    "validset = Triplet_Dataset(valid_patents)\n",
    "\n",
    "print(f\"Size of trainset: {len(trainset)}\")\n",
    "print(f\"Size of validset: {len(validset)}\")"
   ]
  },
  {
   "cell_type": "code",
   "execution_count": 20,
   "id": "f161fee0-e140-4f66-a47f-e6ae94f046c3",
   "metadata": {},
   "outputs": [
    {
     "data": {
      "text/plain": [
       "MLP(\n",
       "  (model): Sequential(\n",
       "    (0): Linear(in_features=1540, out_features=2048, bias=True)\n",
       "    (1): BatchNorm1d(2048, eps=1e-05, momentum=0.1, affine=True, track_running_stats=True)\n",
       "    (2): ReLU()\n",
       "    (3): Dropout(p=0.5, inplace=False)\n",
       "    (4): Linear(in_features=2048, out_features=1024, bias=True)\n",
       "    (5): BatchNorm1d(1024, eps=1e-05, momentum=0.1, affine=True, track_running_stats=True)\n",
       "    (6): ReLU()\n",
       "    (7): Dropout(p=0.5, inplace=False)\n",
       "    (8): Linear(in_features=1024, out_features=512, bias=True)\n",
       "    (9): BatchNorm1d(512, eps=1e-05, momentum=0.1, affine=True, track_running_stats=True)\n",
       "    (10): ReLU()\n",
       "    (11): Dropout(p=0.5, inplace=False)\n",
       "    (12): Linear(in_features=512, out_features=20, bias=True)\n",
       "  )\n",
       ")"
      ]
     },
     "execution_count": 20,
     "metadata": {},
     "output_type": "execute_result"
    }
   ],
   "source": [
    "batch_size = 64\n",
    "input_size = trainset[0][0].shape[0]\n",
    "hidden_sizes = [2048, 1024, 512] \n",
    "output_size = 20\n",
    "\n",
    "model = MLP(input_size, hidden_sizes, output_size)\n",
    "\n",
    "# Create DataLoader \n",
    "trainloader = DataLoader(trainset, batch_size = batch_size, shuffle = True)\n",
    "validloader = DataLoader(validset, batch_size = batch_size)\n",
    "\n",
    "# Define the criterion (Triplet Margin Loss)\n",
    "criterion = nn.TripletMarginLoss(margin=0.2, p=2) \n",
    "\n",
    "# Define the optimizer\n",
    "optimizer = optim.Adam(model.parameters(), lr=0.00001)\n",
    "\n",
    "# Training loop\n",
    "epochs = 10\n",
    "device = torch.device('cuda' if torch.cuda.is_available() else 'cpu')\n",
    "\n",
    "model.to(device)"
   ]
  },
  {
   "cell_type": "code",
   "execution_count": 21,
   "id": "86eedd66-8c58-40ab-9533-854dcbcf0e13",
   "metadata": {},
   "outputs": [
    {
     "name": "stderr",
     "output_type": "stream",
     "text": [
      "100%|██████████| 11440/11440 [11:54<00:00, 16.02it/s] \n",
      "100%|██████████| 1272/1272 [00:35<00:00, 35.37it/s]\n"
     ]
    },
    {
     "name": "stdout",
     "output_type": "stream",
     "text": [
      "SAVED_WEIGHTS_SUCCESS\n",
      "EPOCHS: 1 train_loss: 0.14417691878108244 valid_loss: 0.06869480445975168\n"
     ]
    },
    {
     "name": "stderr",
     "output_type": "stream",
     "text": [
      "100%|██████████| 11440/11440 [11:34<00:00, 16.46it/s]\n",
      "100%|██████████| 1272/1272 [00:41<00:00, 30.75it/s]\n"
     ]
    },
    {
     "name": "stdout",
     "output_type": "stream",
     "text": [
      "SAVED_WEIGHTS_SUCCESS\n",
      "EPOCHS: 2 train_loss: 0.05977006964523905 valid_loss: 0.03757522917395083\n"
     ]
    },
    {
     "name": "stderr",
     "output_type": "stream",
     "text": [
      "100%|██████████| 11440/11440 [11:01<00:00, 17.30it/s]\n",
      "100%|██████████| 1272/1272 [00:40<00:00, 31.13it/s]\n"
     ]
    },
    {
     "name": "stdout",
     "output_type": "stream",
     "text": [
      "SAVED_WEIGHTS_SUCCESS\n",
      "EPOCHS: 3 train_loss: 0.027380785015224434 valid_loss: 0.031170336138266697\n"
     ]
    },
    {
     "name": "stderr",
     "output_type": "stream",
     "text": [
      "100%|██████████| 11440/11440 [11:01<00:00, 17.31it/s] \n",
      "100%|██████████| 1272/1272 [00:41<00:00, 30.48it/s]\n"
     ]
    },
    {
     "name": "stdout",
     "output_type": "stream",
     "text": [
      "SAVED_WEIGHTS_SUCCESS\n",
      "EPOCHS: 4 train_loss: 0.013193980356701974 valid_loss: 0.029854114102961134\n"
     ]
    },
    {
     "name": "stderr",
     "output_type": "stream",
     "text": [
      "100%|██████████| 11440/11440 [10:36<00:00, 17.97it/s]\n",
      "100%|██████████| 1272/1272 [00:40<00:00, 31.19it/s]\n"
     ]
    },
    {
     "name": "stdout",
     "output_type": "stream",
     "text": [
      "SAVED_WEIGHTS_SUCCESS\n",
      "EPOCHS: 5 train_loss: 0.007490404797868536 valid_loss: 0.028657561815314512\n"
     ]
    },
    {
     "name": "stderr",
     "output_type": "stream",
     "text": [
      "100%|██████████| 11440/11440 [10:42<00:00, 17.79it/s] \n",
      "100%|██████████| 1272/1272 [00:36<00:00, 35.20it/s]\n"
     ]
    },
    {
     "name": "stdout",
     "output_type": "stream",
     "text": [
      "SAVED_WEIGHTS_SUCCESS\n",
      "EPOCHS: 6 train_loss: 0.004821022094729669 valid_loss: 0.027082286795796006\n"
     ]
    },
    {
     "name": "stderr",
     "output_type": "stream",
     "text": [
      "100%|██████████| 11440/11440 [11:10<00:00, 17.06it/s]\n",
      "100%|██████████| 1272/1272 [00:35<00:00, 36.13it/s]\n"
     ]
    },
    {
     "name": "stdout",
     "output_type": "stream",
     "text": [
      "SAVED_WEIGHTS_SUCCESS\n",
      "EPOCHS: 7 train_loss: 0.003442639556629042 valid_loss: 0.026779271964988315\n"
     ]
    },
    {
     "name": "stderr",
     "output_type": "stream",
     "text": [
      "100%|██████████| 11440/11440 [12:00<00:00, 15.88it/s]\n",
      "100%|██████████| 1272/1272 [00:54<00:00, 23.14it/s]\n"
     ]
    },
    {
     "name": "stdout",
     "output_type": "stream",
     "text": [
      "SAVED_WEIGHTS_SUCCESS\n",
      "EPOCHS: 8 train_loss: 0.002620050308483464 valid_loss: 0.026069975044774537\n"
     ]
    },
    {
     "name": "stderr",
     "output_type": "stream",
     "text": [
      "100%|██████████| 11440/11440 [12:12<00:00, 15.61it/s]\n",
      "100%|██████████| 1272/1272 [00:37<00:00, 33.58it/s]\n"
     ]
    },
    {
     "name": "stdout",
     "output_type": "stream",
     "text": [
      "EPOCHS: 9 train_loss: 0.0019356818631180673 valid_loss: 0.02615995530907428\n"
     ]
    },
    {
     "name": "stderr",
     "output_type": "stream",
     "text": [
      "100%|██████████| 11440/11440 [12:01<00:00, 15.86it/s]\n",
      "100%|██████████| 1272/1272 [00:35<00:00, 35.72it/s]"
     ]
    },
    {
     "name": "stdout",
     "output_type": "stream",
     "text": [
      "EPOCHS: 10 train_loss: 0.001602137774974759 valid_loss: 0.027651584783895528\n"
     ]
    },
    {
     "name": "stderr",
     "output_type": "stream",
     "text": [
      "\n"
     ]
    }
   ],
   "source": [
    "best_valid_loss = np.Inf\n",
    "\n",
    "for i in range(epochs):\n",
    "    train_loss = train_fn(model, trainloader, optimizer, criterion, device)\n",
    "    valid_loss = eval_fn(model, validloader, criterion, device)\n",
    "\n",
    "    if valid_loss < best_valid_loss:\n",
    "        torch.save(model.state_dict(), 'best_model.pt')\n",
    "        best_valid_loss = valid_loss\n",
    "        print(\"SAVED_WEIGHTS_SUCCESS\")\n",
    "\n",
    "    print(f\"EPOCHS: {i+1} train_loss: {train_loss} valid_loss: {valid_loss}\")"
   ]
  },
  {
   "cell_type": "code",
   "execution_count": 22,
   "id": "4986eb7a-9baf-42c0-a771-7cece9d986f2",
   "metadata": {},
   "outputs": [],
   "source": [
    "torch.save(model.state_dict(), 'models/best_model.pt')"
   ]
  },
  {
   "cell_type": "code",
   "execution_count": 23,
   "id": "21dcd64d-7b0c-4baa-97f5-a49404e8390e",
   "metadata": {},
   "outputs": [
    {
     "data": {
      "text/plain": [
       "<All keys matched successfully>"
      ]
     },
     "execution_count": 23,
     "metadata": {},
     "output_type": "execute_result"
    }
   ],
   "source": [
    "model.load_state_dict(torch.load('models/best_model.pt'))"
   ]
  },
  {
   "cell_type": "markdown",
   "id": "2b7e74b7-8135-4f4a-bb7c-b319356cf1f9",
   "metadata": {},
   "source": [
    "### 2.2 Output Visualization"
   ]
  },
  {
   "cell_type": "code",
   "execution_count": 24,
   "id": "b373b33c-6518-485e-86a2-311827f657d3",
   "metadata": {},
   "outputs": [],
   "source": [
    "testset = Test_Dataset(test_patents)\n",
    "testloader = DataLoader(testset, batch_size = 64)"
   ]
  },
  {
   "cell_type": "code",
   "execution_count": 25,
   "id": "f3796510-cb24-4314-a6e9-5b44dcf0b201",
   "metadata": {},
   "outputs": [
    {
     "name": "stderr",
     "output_type": "stream",
     "text": [
      "100%|██████████| 7/7 [00:00<00:00, 48.29it/s]\n"
     ]
    }
   ],
   "source": [
    "model.eval()\n",
    "\n",
    "# Create an empty list to store the embeddings\n",
    "embeddings = []\n",
    "\n",
    "with torch.no_grad():\n",
    "    for patent in tqdm(testloader):\n",
    "        \n",
    "        patent = patent.to(device)\n",
    "\n",
    "        patent_embs = model(patent)\n",
    "        embeddings.append(patent_embs)\n",
    "\n",
    "embeddings_combined = torch.cat(embeddings, dim=0)\n",
    "inventor_ids = test_patents['person_id'].values"
   ]
  },
  {
   "cell_type": "code",
   "execution_count": 26,
   "id": "d35f833f-3eb7-40ed-82eb-34f3e24744ce",
   "metadata": {},
   "outputs": [
    {
     "name": "stdout",
     "output_type": "stream",
     "text": [
      "Average Silhouette Coefficient: 0.05843942\n"
     ]
    },
    {
     "data": {
      "image/png": "[encoded data removed]",
      "text/plain": [
       "<Figure size 1000x800 with 1 Axes>"
      ]
     },
     "metadata": {},
     "output_type": "display_data"
    }
   ],
   "source": [
    "visualize_embeddings(embeddings_combined, inventor_ids)"
   ]
  },
  {
   "cell_type": "markdown",
   "id": "53d0345b-33d3-4da1-9f90-222f7a6febe7",
   "metadata": {},
   "source": [
    "### 2.3 Model Evaluation"
   ]
  },
  {
   "cell_type": "code",
   "execution_count": 41,
   "id": "f7a69070-ca53-4c83-a962-d3b48c0c899a",
   "metadata": {},
   "outputs": [],
   "source": [
    "# class Test_Dataset_Plus(Dataset):\n",
    "#     def __init__(self, df):\n",
    "#         self.df = df\n",
    "\n",
    "#     def __len__(self):\n",
    "#         return len(self.df)\n",
    "\n",
    "#     def __getitem__(self, idx):\n",
    "#         patent = self.data.iloc[idx]\n",
    "#         P1 = next(iter(patent.Patent1.values()))\n",
    "#         P2 = next(iter(patent.Patent2.values()))\n",
    "#         label = patent.Label  # No need to access .values here\n",
    "#         return np.array(P1, dtype=np.float32), np.array(P2, dtype=np.float32), label"
   ]
  },
  {
   "cell_type": "code",
   "execution_count": 45,
   "id": "fc30edd4-edfb-46c3-af73-566b99a33898",
   "metadata": {},
   "outputs": [],
   "source": [
    "from torch.utils.data import DataLoader, Dataset\n",
    "\n",
    "class Test_Dataset_Plus(Dataset):\n",
    "    def __init__(self, df):\n",
    "        self.df = df\n",
    "\n",
    "    def __len__(self):\n",
    "        return len(self.df)\n",
    "\n",
    "    def __getitem__(self, idx):\n",
    "        patent = self.df.iloc[idx]  # Corrected typo: change self.data to self.df\n",
    "        P1 = next(iter(patent.Patent1.values()))\n",
    "        P2 = next(iter(patent.Patent2.values()))\n",
    "        label = patent.Label  # No need to access .values here\n",
    "        return np.array(P1, dtype=np.float32), np.array(P2, dtype=np.float32), label"
   ]
  },
  {
   "cell_type": "code",
   "execution_count": 46,
   "id": "782759b2-f76c-400e-8535-94bc4ed5c272",
   "metadata": {},
   "outputs": [],
   "source": [
    "# Create a DataLoader for the test dataset\n",
    "testset_ = Test_Dataset_Plus(combined_data)\n",
    "testloader_ = torch.utils.data.DataLoader(testset_, batch_size=64, shuffle=False)"
   ]
  },
  {
   "cell_type": "code",
   "execution_count": null,
   "id": "24f5e437-b859-407e-a87b-b2c30d3317c5",
   "metadata": {},
   "outputs": [
    {
     "name": "stderr",
     "output_type": "stream",
     "text": [
      " 51%|█████▏    | 1411/2751 [00:32<00:29, 45.05it/s]"
     ]
    }
   ],
   "source": [
    "embeddings_P1 = []\n",
    "embeddings_P2 = []\n",
    "labels = []\n",
    "\n",
    "with torch.no_grad():\n",
    "    for P1, P2, label in tqdm(testloader_):\n",
    "        P1, P2 = P1.to(device), P2.to(device)\n",
    "        patent_embs_P1 = model(P1)\n",
    "        patent_embs_P2 = model(P2)\n",
    "        embeddings_P1.append(patent_embs_P1) \n",
    "        embeddings_P2.append(patent_embs_P2)\n",
    "        labels.append(label)\n",
    "        \n",
    "embeddings_combined_P1 = torch.cat(embeddings_P1, dim=0)\n",
    "embeddings_combined_P2 = torch.cat(embeddings_P2, dim=0)\n",
    "ground_truth = torch.cat(labels, dim=0)"
   ]
  },
  {
   "cell_type": "code",
   "execution_count": 36,
   "id": "94a5d363-40f4-4644-bddb-69a6eccb7284",
   "metadata": {},
   "outputs": [],
   "source": [
    "from torch.nn.functional import cosine_similarity\n",
    "cosine_sim = cosine_similarity(embeddings_combined_P1, embeddings_combined_P2)\n",
    "\n",
    "# Define a threshold for classification (adjust as needed)\n",
    "threshold = 0.95\n",
    "# Apply thresholding to get binary predictions\n",
    "binary_predictions = (cosine_sim >= threshold).float()"
   ]
  },
  {
   "cell_type": "code",
   "execution_count": 37,
   "id": "4ad9555b-3682-44d3-987f-ce22b6ea8952",
   "metadata": {},
   "outputs": [],
   "source": [
    "from sklearn.metrics import accuracy_score, precision_score, recall_score, f1_score\n",
    "\n",
    "accuracy = accuracy_score(ground_truth, binary_predictions)\n",
    "precision = precision_score(ground_truth, binary_predictions)\n",
    "recall = recall_score(ground_truth, binary_predictions)\n",
    "f1 = f1_score(ground_truth, binary_predictions)"
   ]
  },
  {
   "cell_type": "code",
   "execution_count": 39,
   "id": "93de71cd-8e70-4556-b99f-3708af0fb1fd",
   "metadata": {},
   "outputs": [
    {
     "data": {
      "image/png": "[encoded data removed]",
      "text/plain": [
       "<Figure size 800x800 with 1 Axes>"
      ]
     },
     "metadata": {},
     "output_type": "display_data"
    }
   ],
   "source": [
    "from sklearn.metrics import roc_curve, roc_auc_score\n",
    "import matplotlib.pyplot as plt\n",
    "\n",
    "# Calculate ROC curve\n",
    "fpr, tpr, thresholds = roc_curve(ground_truth, binary_predictions)\n",
    "\n",
    "# Calculate AUC score\n",
    "auc_score = roc_auc_score(ground_truth, binary_predictions)\n",
    "\n",
    "# Plot ROC curve\n",
    "plt.figure(figsize=(8, 8))\n",
    "plt.plot(fpr, tpr, label=f'AUC = {auc_score:.2f}')\n",
    "plt.plot([0, 1], [0, 1], 'k--', label='Random')\n",
    "plt.xlabel('False Positive Rate')\n",
    "plt.ylabel('True Positive Rate')\n",
    "plt.title('ROC Curve')\n",
    "plt.legend()\n",
    "plt.show()"
   ]
  },
  {
   "cell_type": "code",
   "execution_count": 40,
   "id": "83b8a1c4-df85-4fb8-bfe4-fecaf04372e1",
   "metadata": {},
   "outputs": [
    {
     "name": "stdout",
     "output_type": "stream",
     "text": [
      "Accuracy: 0.9352\n",
      "Precision: 0.2904\n",
      "Recall: 0.0862\n",
      "F1 Score: 0.1329\n"
     ]
    }
   ],
   "source": [
    "print(f\"Accuracy: {accuracy:.4f}\")\n",
    "print(f\"Precision: {precision:.4f}\")\n",
    "print(f\"Recall: {recall:.4f}\")\n",
    "print(f\"F1 Score: {f1:.4f}\")"
   ]
  }
 ],
 "metadata": {
  "kernelspec": {
   "display_name": "Python 3 (ipykernel)",
   "language": "python",
   "name": "python3"
  },
  "language_info": {
   "codemirror_mode": {
    "name": "ipython",
    "version": 3
   },
   "file_extension": ".py",
   "mimetype": "text/x-python",
   "name": "python",
   "nbconvert_exporter": "python",
   "pygments_lexer": "ipython3",
   "version": "3.10.8"
  }
 },
 "nbformat": 4,
 "nbformat_minor": 5
}
